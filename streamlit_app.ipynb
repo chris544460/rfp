{
  "cells": [
    {
      "cell_type": "markdown",
      "metadata": {},
      "source": [
        "## Streamlit App Entrypoint\n",
        "The Streamlit interface has been refactored into regular Python modules.\n",
        "Run `streamlit run streamlit_app.py` to launch the app with the refactored service layer.\n",
        "This notebook delegates to the same `main()` function so the notebook experience stays consistent.\n"
      ]
    },
    {
      "cell_type": "code",
      "execution_count": null,
      "metadata": {},
      "outputs": [],
      "source": [
        "import streamlit_app\n",
        "streamlit_app.main()\n"
      ]
    }
  ],
  "metadata": {
    "kernelspec": {
      "display_name": "Python 3",
      "language": "python",
      "name": "python3"
    },
    "language_info": {
      "name": "python",
      "version": "3.9"
    }
  },
  "nbformat": 4,
  "nbformat_minor": 5
}